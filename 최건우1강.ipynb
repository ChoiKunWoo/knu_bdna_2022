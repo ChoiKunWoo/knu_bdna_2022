{
  "nbformat": 4,
  "nbformat_minor": 0,
  "metadata": {
    "colab": {
      "name": "최건우1강.ipynb",
      "provenance": [],
      "authorship_tag": "ABX9TyNL/S7IZ+G67o9X8CKQQVP0",
      "include_colab_link": true
    },
    "kernelspec": {
      "name": "python3",
      "display_name": "Python 3"
    },
    "language_info": {
      "name": "python"
    }
  },
  "cells": [
    {
      "cell_type": "markdown",
      "metadata": {
        "id": "view-in-github",
        "colab_type": "text"
      },
      "source": [
        "<a href=\"https://colab.research.google.com/github/ChoiKunWoo/knu_bdna_2022/blob/main/%EC%B5%9C%EA%B1%B4%EC%9A%B01%EA%B0%95.ipynb\" target=\"_parent\"><img src=\"https://colab.research.google.com/assets/colab-badge.svg\" alt=\"Open In Colab\"/></a>"
      ]
    },
    {
      "cell_type": "code",
      "execution_count": null,
      "metadata": {
        "id": "2dtee80v2EWJ"
      },
      "outputs": [],
      "source": [
        "def functionName():\n",
        "  return"
      ]
    },
    {
      "cell_type": "code",
      "source": [
        "def greet():\n",
        "  print(\"hello world\")"
      ],
      "metadata": {
        "id": "CiNI-UgB2iH5"
      },
      "execution_count": null,
      "outputs": []
    },
    {
      "cell_type": "code",
      "source": [
        "greet()"
      ],
      "metadata": {
        "colab": {
          "base_uri": "https://localhost:8080/"
        },
        "id": "Op_iqK1v3C2J",
        "outputId": "e032bd00-354e-416a-d674-fba76af79f40"
      },
      "execution_count": null,
      "outputs": [
        {
          "output_type": "stream",
          "name": "stdout",
          "text": [
            "hello world\n"
          ]
        }
      ]
    },
    {
      "cell_type": "code",
      "source": [
        "def add(a,b):\n",
        "  c=a*b\n",
        "  return c"
      ],
      "metadata": {
        "id": "JJKN78X_3Gdg"
      },
      "execution_count": null,
      "outputs": []
    },
    {
      "cell_type": "code",
      "source": [
        "def multiply(a,b):\n",
        "  c=a*b\n",
        "  return c"
      ],
      "metadata": {
        "id": "6imzyjJS3Nmq"
      },
      "execution_count": null,
      "outputs": []
    },
    {
      "cell_type": "code",
      "source": [
        "def greet2(name):\n",
        "  print('반갑습니다' , name)\n",
        "  print(name, '님은 파이썬의 세계로 오셨습니다')"
      ],
      "metadata": {
        "id": "ENrIts9G3TeA"
      },
      "execution_count": null,
      "outputs": []
    },
    {
      "cell_type": "code",
      "source": [
        "greet2('최건우')"
      ],
      "metadata": {
        "colab": {
          "base_uri": "https://localhost:8080/"
        },
        "id": "sgPd2kdx3iRg",
        "outputId": "99d7eed9-da7d-4a83-8d14-357b9d7ccd10"
      },
      "execution_count": null,
      "outputs": [
        {
          "output_type": "stream",
          "name": "stdout",
          "text": [
            "반갑습니다 최건우\n",
            "최건우 님은 파이썬의 세계로 오셨습니다\n"
          ]
        }
      ]
    },
    {
      "cell_type": "code",
      "source": [
        "def greet2(name):\n",
        "  print('반갑습니다' ,name)\n",
        "  print(name, '님은 파이썬의 세계로 오셨습니다')"
      ],
      "metadata": {
        "id": "weDlH9Es3kqx"
      },
      "execution_count": null,
      "outputs": []
    },
    {
      "cell_type": "code",
      "source": [
        "inputName = '최건우'"
      ],
      "metadata": {
        "id": "0zj3wO1R4Eu4"
      },
      "execution_count": null,
      "outputs": []
    },
    {
      "cell_type": "code",
      "source": [
        "greet2(inputName)"
      ],
      "metadata": {
        "colab": {
          "base_uri": "https://localhost:8080/"
        },
        "id": "z2Oc6sTh4ItY",
        "outputId": "1ab60e06-fac5-4509-f3cf-57df055b9d16"
      },
      "execution_count": null,
      "outputs": [
        {
          "output_type": "stream",
          "name": "stdout",
          "text": [
            "반갑습니다 최건우\n",
            "최건우 님은 파이썬의 세계로 오셨습니다\n"
          ]
        }
      ]
    },
    {
      "cell_type": "code",
      "source": [
        "def adder(num1, num2):\n",
        "  sum=num1+num2\n",
        "  print('덧셈 결과: ', num1 + num2)"
      ],
      "metadata": {
        "id": "HMxHX7H64MIw"
      },
      "execution_count": null,
      "outputs": []
    },
    {
      "cell_type": "code",
      "source": [
        "adder(10,5)"
      ],
      "metadata": {
        "colab": {
          "base_uri": "https://localhost:8080/"
        },
        "id": "gQ88QSqb4Z0Y",
        "outputId": "18f3c265-f8ff-4104-a360-312f5e3acdae"
      },
      "execution_count": null,
      "outputs": [
        {
          "output_type": "stream",
          "name": "stdout",
          "text": [
            "덧셈 결과:  15\n"
          ]
        }
      ]
    },
    {
      "cell_type": "code",
      "source": [
        "sum"
      ],
      "metadata": {
        "colab": {
          "base_uri": "https://localhost:8080/"
        },
        "id": "b-6jZ1qF4bnB",
        "outputId": "477b39c3-c9bd-424e-a496-c064dd1c3944"
      },
      "execution_count": null,
      "outputs": [
        {
          "output_type": "execute_result",
          "data": {
            "text/plain": [
              "<function sum>"
            ]
          },
          "metadata": {},
          "execution_count": 13
        }
      ]
    },
    {
      "cell_type": "code",
      "source": [
        "def adder(num1, num2):\n",
        "  sum=num1+num2\n",
        "  return sum"
      ],
      "metadata": {
        "id": "QmIx7ckP4fAB"
      },
      "execution_count": null,
      "outputs": []
    },
    {
      "cell_type": "code",
      "source": [
        "result = adder(10,5)\n",
        "print(sum)"
      ],
      "metadata": {
        "colab": {
          "base_uri": "https://localhost:8080/"
        },
        "id": "lOtvXNG_5MgI",
        "outputId": "5fae8841-33ef-449a-aa60-3264bba3225c"
      },
      "execution_count": null,
      "outputs": [
        {
          "output_type": "stream",
          "name": "stdout",
          "text": [
            "<built-in function sum>\n"
          ]
        }
      ]
    },
    {
      "cell_type": "code",
      "source": [
        "print(sum)"
      ],
      "metadata": {
        "colab": {
          "base_uri": "https://localhost:8080/"
        },
        "id": "2moJpa5-5OU5",
        "outputId": "afb9b939-d1c4-4eb0-c527-1e69a633904a"
      },
      "execution_count": null,
      "outputs": [
        {
          "output_type": "stream",
          "name": "stdout",
          "text": [
            "<built-in function sum>\n"
          ]
        }
      ]
    },
    {
      "cell_type": "code",
      "source": [
        "def adder(num1, num2):\n",
        "  sum=num1+num2\n",
        "  return sum"
      ],
      "metadata": {
        "id": "imIj-a8-5QXh"
      },
      "execution_count": null,
      "outputs": []
    },
    {
      "cell_type": "code",
      "source": [
        "def main():\n",
        "  print(adder(5,3))"
      ],
      "metadata": {
        "id": "KcOxoBst508x"
      },
      "execution_count": null,
      "outputs": []
    },
    {
      "cell_type": "code",
      "source": [
        "main()"
      ],
      "metadata": {
        "colab": {
          "base_uri": "https://localhost:8080/"
        },
        "id": "LN4J0FJa530B",
        "outputId": "086445b0-69a6-4cfd-ac97-c69c0a0fc08b"
      },
      "execution_count": null,
      "outputs": [
        {
          "output_type": "stream",
          "name": "stdout",
          "text": [
            "8\n"
          ]
        }
      ]
    },
    {
      "cell_type": "code",
      "source": [
        "max(2,3,4)"
      ],
      "metadata": {
        "colab": {
          "base_uri": "https://localhost:8080/"
        },
        "id": "WMoYF8OK54zJ",
        "outputId": "89519b7c-2327-4878-af36-09f9fe96a5d5"
      },
      "execution_count": null,
      "outputs": [
        {
          "output_type": "execute_result",
          "data": {
            "text/plain": [
              "4"
            ]
          },
          "metadata": {},
          "execution_count": 21
        }
      ]
    },
    {
      "cell_type": "code",
      "source": [
        "min(2,3,4)"
      ],
      "metadata": {
        "colab": {
          "base_uri": "https://localhost:8080/"
        },
        "id": "gFFgf62b6GwZ",
        "outputId": "03d03f6a-80fb-4935-92b5-6d8aad2380ab"
      },
      "execution_count": null,
      "outputs": [
        {
          "output_type": "execute_result",
          "data": {
            "text/plain": [
              "2"
            ]
          },
          "metadata": {},
          "execution_count": 22
        }
      ]
    },
    {
      "cell_type": "code",
      "source": [
        "round(3.51) # 가장 가까운 정수로 근사"
      ],
      "metadata": {
        "colab": {
          "base_uri": "https://localhost:8080/"
        },
        "id": "VXfs_enB6IJY",
        "outputId": "8446cba2-8bc8-4673-9e1d-7497f8050431"
      },
      "execution_count": null,
      "outputs": [
        {
          "output_type": "execute_result",
          "data": {
            "text/plain": [
              "4"
            ]
          },
          "metadata": {},
          "execution_count": 23
        }
      ]
    },
    {
      "cell_type": "code",
      "source": [
        "round(3.4)"
      ],
      "metadata": {
        "colab": {
          "base_uri": "https://localhost:8080/"
        },
        "id": "5weIaiqk6Loi",
        "outputId": "e47f94a5-c986-4e92-b97e-3d5fcefe49e3"
      },
      "execution_count": null,
      "outputs": [
        {
          "output_type": "execute_result",
          "data": {
            "text/plain": [
              "3"
            ]
          },
          "metadata": {},
          "execution_count": 24
        }
      ]
    },
    {
      "cell_type": "code",
      "source": [
        "abs(-3) #절댓값 반환"
      ],
      "metadata": {
        "colab": {
          "base_uri": "https://localhost:8080/"
        },
        "id": "LSUzVKhk6NQI",
        "outputId": "f02bc757-c8e5-49ac-b315-7983e3e9fb5a"
      },
      "execution_count": null,
      "outputs": [
        {
          "output_type": "execute_result",
          "data": {
            "text/plain": [
              "3"
            ]
          },
          "metadata": {},
          "execution_count": 25
        }
      ]
    },
    {
      "cell_type": "code",
      "source": [
        "pow(2,3) #2의 3승"
      ],
      "metadata": {
        "colab": {
          "base_uri": "https://localhost:8080/"
        },
        "id": "iooqOR6u6Pja",
        "outputId": "ac8eb12e-bbf6-45c5-bd4d-808221ac4ee3"
      },
      "execution_count": null,
      "outputs": [
        {
          "output_type": "execute_result",
          "data": {
            "text/plain": [
              "8"
            ]
          },
          "metadata": {},
          "execution_count": 26
        }
      ]
    },
    {
      "cell_type": "code",
      "source": [
        "round(3.1234,2) #소수점 둘째 자리까지 근사"
      ],
      "metadata": {
        "colab": {
          "base_uri": "https://localhost:8080/"
        },
        "id": "5xYsHCUW6TS4",
        "outputId": "957a4c24-381a-4d5a-e907-04e8edce7a7d"
      },
      "execution_count": null,
      "outputs": [
        {
          "output_type": "execute_result",
          "data": {
            "text/plain": [
              "3.12"
            ]
          },
          "metadata": {},
          "execution_count": 27
        }
      ]
    },
    {
      "cell_type": "code",
      "source": [
        "10%3 = 1 : /나머지 #몫과 나머지"
      ],
      "metadata": {
        "colab": {
          "base_uri": "https://localhost:8080/",
          "height": 137
        },
        "id": "vRWYLnon6dgy",
        "outputId": "55636e03-dda6-4664-e531-62152ae99b89"
      },
      "execution_count": null,
      "outputs": [
        {
          "output_type": "error",
          "ename": "SyntaxError",
          "evalue": "ignored",
          "traceback": [
            "\u001b[0;36m  File \u001b[0;32m\"<ipython-input-28-f7302e931219>\"\u001b[0;36m, line \u001b[0;32m1\u001b[0m\n\u001b[0;31m    10%3 = 1 : /나머지 #몫과 나머지\u001b[0m\n\u001b[0m             ^\u001b[0m\n\u001b[0;31mSyntaxError\u001b[0m\u001b[0;31m:\u001b[0m invalid syntax\n"
          ]
        }
      ]
    },
    {
      "cell_type": "code",
      "source": [
        "10%3"
      ],
      "metadata": {
        "colab": {
          "base_uri": "https://localhost:8080/"
        },
        "id": "YY48lRA56jjT",
        "outputId": "273f7a8c-963c-40cb-f428-b9fb91cc27f7"
      },
      "execution_count": null,
      "outputs": [
        {
          "output_type": "execute_result",
          "data": {
            "text/plain": [
              "1"
            ]
          },
          "metadata": {},
          "execution_count": 29
        }
      ]
    },
    {
      "cell_type": "code",
      "source": [
        "10%3=1 : /"
      ],
      "metadata": {
        "colab": {
          "base_uri": "https://localhost:8080/",
          "height": 137
        },
        "id": "69qxN-fi6oaQ",
        "outputId": "026f2278-921c-4aec-def1-4c9191688e97"
      },
      "execution_count": null,
      "outputs": [
        {
          "output_type": "error",
          "ename": "SyntaxError",
          "evalue": "ignored",
          "traceback": [
            "\u001b[0;36m  File \u001b[0;32m\"<ipython-input-31-e109a0b5b343>\"\u001b[0;36m, line \u001b[0;32m1\u001b[0m\n\u001b[0;31m    10%3=1 : /\u001b[0m\n\u001b[0m           ^\u001b[0m\n\u001b[0;31mSyntaxError\u001b[0m\u001b[0;31m:\u001b[0m invalid syntax\n"
          ]
        }
      ]
    },
    {
      "cell_type": "code",
      "source": [
        "result = eval(input(\"2-4*5+3\"))"
      ],
      "metadata": {
        "colab": {
          "base_uri": "https://localhost:8080/"
        },
        "id": "gzB8WBn56tSw",
        "outputId": "aee6eba0-3daf-49f3-b0dc-7ebfb42d66ca"
      },
      "execution_count": null,
      "outputs": [
        {
          "name": "stdout",
          "output_type": "stream",
          "text": [
            "2-4*5+3-15\n"
          ]
        }
      ]
    },
    {
      "cell_type": "code",
      "source": [
        "result"
      ],
      "metadata": {
        "colab": {
          "base_uri": "https://localhost:8080/"
        },
        "id": "GipZyflt682Q",
        "outputId": "afbb35e9-82b4-4c6d-94ef-c4d49d3523de"
      },
      "execution_count": null,
      "outputs": [
        {
          "output_type": "execute_result",
          "data": {
            "text/plain": [
              "-15"
            ]
          },
          "metadata": {},
          "execution_count": 38
        }
      ]
    },
    {
      "cell_type": "code",
      "source": [
        "def ret():\n",
        "  return 12"
      ],
      "metadata": {
        "id": "AJWIuNxI7WLR"
      },
      "execution_count": null,
      "outputs": []
    },
    {
      "cell_type": "code",
      "source": [
        "result = eval(input(\"ret()\"))"
      ],
      "metadata": {
        "colab": {
          "base_uri": "https://localhost:8080/"
        },
        "id": "GpH7PO8k8u2B",
        "outputId": "1a9b2e73-a5c3-40d6-8d6c-f5523342adaa"
      },
      "execution_count": null,
      "outputs": [
        {
          "name": "stdout",
          "output_type": "stream",
          "text": [
            "ret()12\n"
          ]
        }
      ]
    },
    {
      "cell_type": "code",
      "source": [
        "print(result)"
      ],
      "metadata": {
        "colab": {
          "base_uri": "https://localhost:8080/"
        },
        "id": "LkdHjmWr828h",
        "outputId": "9de4fc46-663c-45f8-95b7-b1f74b814b19"
      },
      "execution_count": null,
      "outputs": [
        {
          "output_type": "stream",
          "name": "stdout",
          "text": [
            "12\n"
          ]
        }
      ]
    },
    {
      "cell_type": "code",
      "source": [
        "def greet_three_times():\n",
        "  print('hi ')\n",
        "  print('hi ')\n",
        "  print('hi ')"
      ],
      "metadata": {
        "id": "eJAUMLaR850R"
      },
      "execution_count": null,
      "outputs": []
    },
    {
      "cell_type": "code",
      "source": [
        "greet_three_times()"
      ],
      "metadata": {
        "colab": {
          "base_uri": "https://localhost:8080/"
        },
        "id": "55AXq_lpmpe_",
        "outputId": "18fddec4-82f1-4414-ed33-9ce0d2255dd7"
      },
      "execution_count": null,
      "outputs": [
        {
          "output_type": "stream",
          "name": "stdout",
          "text": [
            "hi \n",
            "hi \n",
            "hi \n"
          ]
        }
      ]
    },
    {
      "cell_type": "code",
      "source": [
        "def greet_10(num):\n",
        "  if (num>0):\n",
        "    print('hi ')\n",
        "    num=num-1\n",
        "    greet_10(num)"
      ],
      "metadata": {
        "id": "QzU-h3BvmtGP"
      },
      "execution_count": null,
      "outputs": []
    },
    {
      "cell_type": "code",
      "source": [
        "greet_10(3)"
      ],
      "metadata": {
        "colab": {
          "base_uri": "https://localhost:8080/"
        },
        "id": "YdhQEyBMnB0I",
        "outputId": "73318f54-6040-45ed-fbaa-3557325d8d64"
      },
      "execution_count": null,
      "outputs": [
        {
          "output_type": "stream",
          "name": "stdout",
          "text": [
            "hi \n",
            "hi \n",
            "hi \n"
          ]
        }
      ]
    },
    {
      "cell_type": "code",
      "source": [
        "greet_10(2)"
      ],
      "metadata": {
        "colab": {
          "base_uri": "https://localhost:8080/"
        },
        "id": "SZ0JMTbBnDdA",
        "outputId": "05c4cd18-e5fa-4c4b-e8ab-75e1dd417835"
      },
      "execution_count": null,
      "outputs": [
        {
          "output_type": "stream",
          "name": "stdout",
          "text": [
            "hi \n",
            "hi \n"
          ]
        }
      ]
    },
    {
      "cell_type": "code",
      "source": [
        "greet_10(1)"
      ],
      "metadata": {
        "colab": {
          "base_uri": "https://localhost:8080/"
        },
        "id": "1p-zyiwonPEP",
        "outputId": "346be22b-dd6b-435d-ab5d-8400dd4c039b"
      },
      "execution_count": null,
      "outputs": [
        {
          "output_type": "stream",
          "name": "stdout",
          "text": [
            "hi \n"
          ]
        }
      ]
    },
    {
      "cell_type": "code",
      "source": [
        "greet_10(0)"
      ],
      "metadata": {
        "id": "s1-T6_h5nRT3"
      },
      "execution_count": null,
      "outputs": []
    },
    {
      "cell_type": "code",
      "source": [
        "sum=0\n",
        "for i in range(1,11):\n",
        "  sum=sum+i"
      ],
      "metadata": {
        "id": "f7_Ln9rPnTI3"
      },
      "execution_count": null,
      "outputs": []
    },
    {
      "cell_type": "code",
      "source": [
        "import random\n",
        "NUMBER_OF_TRIALS = 5000000\n",
        "numberOfHits = 0"
      ],
      "metadata": {
        "id": "BUrHlwr0ngFo"
      },
      "execution_count": null,
      "outputs": []
    },
    {
      "cell_type": "code",
      "source": [
        "for i in range(NUMBER_OF_TRIALS) :\n",
        "  x = random.random() * 2 - 1\n",
        "  y = random.random() * 2 - 1\n",
        "  if x * x + y * y <= 1:\n",
        "    numberOfHits +=1"
      ],
      "metadata": {
        "id": "PwD_X7LbpDvo"
      },
      "execution_count": null,
      "outputs": []
    },
    {
      "cell_type": "code",
      "source": [
        "pi = 4 * numberOfHits / NUMBER_OF_TRIALS\n",
        "print(\"PI는\", pi, \"입니다.\")"
      ],
      "metadata": {
        "colab": {
          "base_uri": "https://localhost:8080/"
        },
        "id": "Qs_PFWZgpbOI",
        "outputId": "921d1102-4b12-4d67-eacc-6eea3b102741"
      },
      "execution_count": null,
      "outputs": [
        {
          "output_type": "stream",
          "name": "stdout",
          "text": [
            "PI는 3.1416032 입니다.\n"
          ]
        }
      ]
    },
    {
      "cell_type": "code",
      "source": [
        "count = 0\n",
        "while count < 100:\n",
        "  print(\"프로그래밍은 재미있습니다!\")\n",
        "  count = count + 1"
      ],
      "metadata": {
        "colab": {
          "base_uri": "https://localhost:8080/"
        },
        "id": "cIUS0HvZpn9H",
        "outputId": "3bb3a16b-8706-4b73-d863-831e7631e238"
      },
      "execution_count": null,
      "outputs": [
        {
          "output_type": "stream",
          "name": "stdout",
          "text": [
            "프로그래밍은 재미있습니다!\n",
            "프로그래밍은 재미있습니다!\n",
            "프로그래밍은 재미있습니다!\n",
            "프로그래밍은 재미있습니다!\n",
            "프로그래밍은 재미있습니다!\n",
            "프로그래밍은 재미있습니다!\n",
            "프로그래밍은 재미있습니다!\n",
            "프로그래밍은 재미있습니다!\n",
            "프로그래밍은 재미있습니다!\n",
            "프로그래밍은 재미있습니다!\n",
            "프로그래밍은 재미있습니다!\n",
            "프로그래밍은 재미있습니다!\n",
            "프로그래밍은 재미있습니다!\n",
            "프로그래밍은 재미있습니다!\n",
            "프로그래밍은 재미있습니다!\n",
            "프로그래밍은 재미있습니다!\n",
            "프로그래밍은 재미있습니다!\n",
            "프로그래밍은 재미있습니다!\n",
            "프로그래밍은 재미있습니다!\n",
            "프로그래밍은 재미있습니다!\n",
            "프로그래밍은 재미있습니다!\n",
            "프로그래밍은 재미있습니다!\n",
            "프로그래밍은 재미있습니다!\n",
            "프로그래밍은 재미있습니다!\n",
            "프로그래밍은 재미있습니다!\n",
            "프로그래밍은 재미있습니다!\n",
            "프로그래밍은 재미있습니다!\n",
            "프로그래밍은 재미있습니다!\n",
            "프로그래밍은 재미있습니다!\n",
            "프로그래밍은 재미있습니다!\n",
            "프로그래밍은 재미있습니다!\n",
            "프로그래밍은 재미있습니다!\n",
            "프로그래밍은 재미있습니다!\n",
            "프로그래밍은 재미있습니다!\n",
            "프로그래밍은 재미있습니다!\n",
            "프로그래밍은 재미있습니다!\n",
            "프로그래밍은 재미있습니다!\n",
            "프로그래밍은 재미있습니다!\n",
            "프로그래밍은 재미있습니다!\n",
            "프로그래밍은 재미있습니다!\n",
            "프로그래밍은 재미있습니다!\n",
            "프로그래밍은 재미있습니다!\n",
            "프로그래밍은 재미있습니다!\n",
            "프로그래밍은 재미있습니다!\n",
            "프로그래밍은 재미있습니다!\n",
            "프로그래밍은 재미있습니다!\n",
            "프로그래밍은 재미있습니다!\n",
            "프로그래밍은 재미있습니다!\n",
            "프로그래밍은 재미있습니다!\n",
            "프로그래밍은 재미있습니다!\n",
            "프로그래밍은 재미있습니다!\n",
            "프로그래밍은 재미있습니다!\n",
            "프로그래밍은 재미있습니다!\n",
            "프로그래밍은 재미있습니다!\n",
            "프로그래밍은 재미있습니다!\n",
            "프로그래밍은 재미있습니다!\n",
            "프로그래밍은 재미있습니다!\n",
            "프로그래밍은 재미있습니다!\n",
            "프로그래밍은 재미있습니다!\n",
            "프로그래밍은 재미있습니다!\n",
            "프로그래밍은 재미있습니다!\n",
            "프로그래밍은 재미있습니다!\n",
            "프로그래밍은 재미있습니다!\n",
            "프로그래밍은 재미있습니다!\n",
            "프로그래밍은 재미있습니다!\n",
            "프로그래밍은 재미있습니다!\n",
            "프로그래밍은 재미있습니다!\n",
            "프로그래밍은 재미있습니다!\n",
            "프로그래밍은 재미있습니다!\n",
            "프로그래밍은 재미있습니다!\n",
            "프로그래밍은 재미있습니다!\n",
            "프로그래밍은 재미있습니다!\n",
            "프로그래밍은 재미있습니다!\n",
            "프로그래밍은 재미있습니다!\n",
            "프로그래밍은 재미있습니다!\n",
            "프로그래밍은 재미있습니다!\n",
            "프로그래밍은 재미있습니다!\n",
            "프로그래밍은 재미있습니다!\n",
            "프로그래밍은 재미있습니다!\n",
            "프로그래밍은 재미있습니다!\n",
            "프로그래밍은 재미있습니다!\n",
            "프로그래밍은 재미있습니다!\n",
            "프로그래밍은 재미있습니다!\n",
            "프로그래밍은 재미있습니다!\n",
            "프로그래밍은 재미있습니다!\n",
            "프로그래밍은 재미있습니다!\n",
            "프로그래밍은 재미있습니다!\n",
            "프로그래밍은 재미있습니다!\n",
            "프로그래밍은 재미있습니다!\n",
            "프로그래밍은 재미있습니다!\n",
            "프로그래밍은 재미있습니다!\n",
            "프로그래밍은 재미있습니다!\n",
            "프로그래밍은 재미있습니다!\n",
            "프로그래밍은 재미있습니다!\n",
            "프로그래밍은 재미있습니다!\n",
            "프로그래밍은 재미있습니다!\n",
            "프로그래밍은 재미있습니다!\n",
            "프로그래밍은 재미있습니다!\n",
            "프로그래밍은 재미있습니다!\n",
            "프로그래밍은 재미있습니다!\n"
          ]
        }
      ]
    },
    {
      "cell_type": "code",
      "source": [
        "import random\n",
        "NUMBER_OF_TRIALS = 5000000\n",
        "numberOfHits = 0\n",
        "i=0\n",
        "while(i<NUMBER_OF_TRIALS):\n",
        "  x = random.random() * 2 - 1\n",
        "  y = random.random() * 2 - 1\n",
        "  if x * x + y * y <= 1:\n",
        "    numberOfHits += 1\n",
        "    i=i+1"
      ],
      "metadata": {
        "id": "neEjBXu-qJan"
      },
      "execution_count": null,
      "outputs": []
    },
    {
      "cell_type": "code",
      "source": [
        "pi = 4 * numberOfHits / NUMBER_OF_TRIALS\n",
        "print(\"PI는\", pi, \"입니다.\")"
      ],
      "metadata": {
        "colab": {
          "base_uri": "https://localhost:8080/"
        },
        "id": "2Gmk-0UZquqI",
        "outputId": "528664d0-a855-422f-c90c-425d26fb0a59"
      },
      "execution_count": null,
      "outputs": [
        {
          "output_type": "stream",
          "name": "stdout",
          "text": [
            "PI는 4.0 입니다.\n"
          ]
        }
      ]
    },
    {
      "cell_type": "code",
      "source": [
        "x=3\n",
        "y=2\n",
        "bool(x>y)"
      ],
      "metadata": {
        "colab": {
          "base_uri": "https://localhost:8080/"
        },
        "id": "2HHiVZ-3q5To",
        "outputId": "9f236dbd-6026-4fce-a84b-66d23719762e"
      },
      "execution_count": null,
      "outputs": [
        {
          "output_type": "execute_result",
          "data": {
            "text/plain": [
              "True"
            ]
          },
          "metadata": {},
          "execution_count": 15
        }
      ]
    },
    {
      "cell_type": "code",
      "source": [
        "x=3\n",
        "y=2\n",
        "bool(x !=y)"
      ],
      "metadata": {
        "colab": {
          "base_uri": "https://localhost:8080/"
        },
        "id": "8ylj-XfjrnDI",
        "outputId": "38705c4d-8f31-45bb-8c0d-2627c796415a"
      },
      "execution_count": null,
      "outputs": [
        {
          "output_type": "execute_result",
          "data": {
            "text/plain": [
              "True"
            ]
          },
          "metadata": {},
          "execution_count": 16
        }
      ]
    },
    {
      "cell_type": "code",
      "source": [
        "x=3\n",
        "y=2\n",
        "bool(x==y)"
      ],
      "metadata": {
        "colab": {
          "base_uri": "https://localhost:8080/"
        },
        "id": "5LEYuNcnrv84",
        "outputId": "7fa95d3a-f229-4e1b-afdd-9eefcf44fa6e"
      },
      "execution_count": null,
      "outputs": [
        {
          "output_type": "execute_result",
          "data": {
            "text/plain": [
              "False"
            ]
          },
          "metadata": {},
          "execution_count": 17
        }
      ]
    },
    {
      "cell_type": "code",
      "source": [
        "x=3\n",
        "y=2\n",
        "bool(x<=y)"
      ],
      "metadata": {
        "colab": {
          "base_uri": "https://localhost:8080/"
        },
        "id": "pKGtLTq_ry7p",
        "outputId": "73ae9938-745b-45b9-fe05-9023573cc4ff"
      },
      "execution_count": null,
      "outputs": [
        {
          "output_type": "execute_result",
          "data": {
            "text/plain": [
              "False"
            ]
          },
          "metadata": {},
          "execution_count": 18
        }
      ]
    },
    {
      "cell_type": "code",
      "source": [
        "money = 2000\n",
        "card = True\n",
        "if money >= 3000 or card:\n",
        "  print(\"택시를 타고 가라\")\n",
        "else:\n",
        "  print(\"걸어가라\")\n"
      ],
      "metadata": {
        "colab": {
          "base_uri": "https://localhost:8080/"
        },
        "id": "PDvxaYfrr11A",
        "outputId": "9df7585b-40ba-4ef7-a2a1-d4b251336f2a"
      },
      "execution_count": null,
      "outputs": [
        {
          "output_type": "stream",
          "name": "stdout",
          "text": [
            "택시를 타고 가라\n"
          ]
        }
      ]
    },
    {
      "cell_type": "code",
      "source": [
        "bool(True or True)"
      ],
      "metadata": {
        "colab": {
          "base_uri": "https://localhost:8080/"
        },
        "id": "uqWZipYosAJ4",
        "outputId": "758ebc37-a90b-4bea-d70a-41dc5965c0c2"
      },
      "execution_count": null,
      "outputs": [
        {
          "output_type": "execute_result",
          "data": {
            "text/plain": [
              "True"
            ]
          },
          "metadata": {},
          "execution_count": 24
        }
      ]
    },
    {
      "cell_type": "code",
      "source": [
        "bool(True or False)"
      ],
      "metadata": {
        "colab": {
          "base_uri": "https://localhost:8080/"
        },
        "id": "9-m6DUeusqgf",
        "outputId": "a0c752d3-d549-48dc-b7f3-8e109148f713"
      },
      "execution_count": null,
      "outputs": [
        {
          "output_type": "execute_result",
          "data": {
            "text/plain": [
              "True"
            ]
          },
          "metadata": {},
          "execution_count": 25
        }
      ]
    },
    {
      "cell_type": "code",
      "source": [
        "bool(False or False)"
      ],
      "metadata": {
        "colab": {
          "base_uri": "https://localhost:8080/"
        },
        "id": "OL6cnVP_s2to",
        "outputId": "4d1e89e3-998e-45bd-fb32-67998b803205"
      },
      "execution_count": null,
      "outputs": [
        {
          "output_type": "execute_result",
          "data": {
            "text/plain": [
              "False"
            ]
          },
          "metadata": {},
          "execution_count": 26
        }
      ]
    },
    {
      "cell_type": "code",
      "source": [
        "bool(not True)"
      ],
      "metadata": {
        "colab": {
          "base_uri": "https://localhost:8080/"
        },
        "id": "g0D7kGsPs4hI",
        "outputId": "34e5683d-834e-4582-e546-a02e89380ffa"
      },
      "execution_count": null,
      "outputs": [
        {
          "output_type": "execute_result",
          "data": {
            "text/plain": [
              "False"
            ]
          },
          "metadata": {},
          "execution_count": 27
        }
      ]
    },
    {
      "cell_type": "code",
      "source": [
        "bool(not False)"
      ],
      "metadata": {
        "colab": {
          "base_uri": "https://localhost:8080/"
        },
        "id": "wQzQqpAIs6zw",
        "outputId": "697507fb-46ab-4791-fc5b-06169c2fee36"
      },
      "execution_count": null,
      "outputs": [
        {
          "output_type": "execute_result",
          "data": {
            "text/plain": [
              "True"
            ]
          },
          "metadata": {},
          "execution_count": 29
        }
      ]
    },
    {
      "cell_type": "code",
      "source": [
        "bool(not (True or False))"
      ],
      "metadata": {
        "colab": {
          "base_uri": "https://localhost:8080/"
        },
        "id": "mz6l5P8Ks8W4",
        "outputId": "9983569c-525f-41e0-adaa-916ef2304f0e"
      },
      "execution_count": null,
      "outputs": [
        {
          "output_type": "execute_result",
          "data": {
            "text/plain": [
              "False"
            ]
          },
          "metadata": {},
          "execution_count": 31
        }
      ]
    },
    {
      "cell_type": "code",
      "source": [
        "bool((not True) or False)"
      ],
      "metadata": {
        "colab": {
          "base_uri": "https://localhost:8080/"
        },
        "id": "H_3XZOn4tAtI",
        "outputId": "0f5b6872-1156-4f06-a7a9-010623470703"
      },
      "execution_count": null,
      "outputs": [
        {
          "output_type": "execute_result",
          "data": {
            "text/plain": [
              "False"
            ]
          },
          "metadata": {},
          "execution_count": 32
        }
      ]
    },
    {
      "cell_type": "code",
      "source": [
        "bool((not False) or False)"
      ],
      "metadata": {
        "colab": {
          "base_uri": "https://localhost:8080/"
        },
        "id": "PTVZACAxtGX5",
        "outputId": "d91b7f5a-850e-4e8e-af00-9d0a42cfa09e"
      },
      "execution_count": null,
      "outputs": [
        {
          "output_type": "execute_result",
          "data": {
            "text/plain": [
              "True"
            ]
          },
          "metadata": {},
          "execution_count": 33
        }
      ]
    },
    {
      "cell_type": "code",
      "source": [
        "bool((not False) or False)"
      ],
      "metadata": {
        "colab": {
          "base_uri": "https://localhost:8080/"
        },
        "id": "Hl3fTL7JtJ1R",
        "outputId": "1bf7c5da-acd6-462a-d857-bb7c404f26d7"
      },
      "execution_count": null,
      "outputs": [
        {
          "output_type": "execute_result",
          "data": {
            "text/plain": [
              "True"
            ]
          },
          "metadata": {},
          "execution_count": 34
        }
      ]
    },
    {
      "cell_type": "code",
      "source": [
        "1 in [1,2,3]"
      ],
      "metadata": {
        "colab": {
          "base_uri": "https://localhost:8080/"
        },
        "id": "sMprLpzHtMao",
        "outputId": "0475fca0-3cf1-4272-d764-9ef23b12d47d"
      },
      "execution_count": null,
      "outputs": [
        {
          "output_type": "execute_result",
          "data": {
            "text/plain": [
              "True"
            ]
          },
          "metadata": {},
          "execution_count": 35
        }
      ]
    },
    {
      "cell_type": "code",
      "source": [
        "1 not in [1,2,3]"
      ],
      "metadata": {
        "colab": {
          "base_uri": "https://localhost:8080/"
        },
        "id": "yo1r8YoGtnOp",
        "outputId": "914a80b5-d2cc-4339-ac66-dc81c2868756"
      },
      "execution_count": null,
      "outputs": [
        {
          "output_type": "execute_result",
          "data": {
            "text/plain": [
              "False"
            ]
          },
          "metadata": {},
          "execution_count": 36
        }
      ]
    },
    {
      "cell_type": "code",
      "source": [
        "pocket = ['paper','cellphone','money']\n",
        "if 'money' in pocket:\n",
        "  print(\"택시를 타고 가라\")\n",
        "else:\n",
        "  print(\"걸어가라\")"
      ],
      "metadata": {
        "colab": {
          "base_uri": "https://localhost:8080/"
        },
        "id": "4ebgj36CtpNh",
        "outputId": "7f29f882-c96f-4c7c-981e-1ab4f72a785c"
      },
      "execution_count": null,
      "outputs": [
        {
          "output_type": "stream",
          "name": "stdout",
          "text": [
            "택시를 타고 가라\n"
          ]
        }
      ]
    },
    {
      "cell_type": "code",
      "source": [
        "pocket = ['paper','money','cellphone']"
      ],
      "metadata": {
        "id": "jx1rfQ07uAxL"
      },
      "execution_count": null,
      "outputs": []
    },
    {
      "cell_type": "code",
      "source": [
        "if'money' in pocket:\n",
        "  pass\n",
        "else:\n",
        "  print(\"카드를 꺼내라\")"
      ],
      "metadata": {
        "id": "lEcK3Jg8uPei"
      },
      "execution_count": null,
      "outputs": []
    },
    {
      "cell_type": "code",
      "source": [
        "if (3>2):\n",
        "else:\n",
        "  print('hello')"
      ],
      "metadata": {
        "colab": {
          "base_uri": "https://localhost:8080/",
          "height": 137
        },
        "id": "snoAHUIPuUZb",
        "outputId": "9f06d4cc-25e5-4682-edd2-e20a1852bb97"
      },
      "execution_count": null,
      "outputs": [
        {
          "output_type": "error",
          "ename": "IndentationError",
          "evalue": "ignored",
          "traceback": [
            "\u001b[0;36m  File \u001b[0;32m\"<ipython-input-45-c0e62195860e>\"\u001b[0;36m, line \u001b[0;32m2\u001b[0m\n\u001b[0;31m    else:\u001b[0m\n\u001b[0m       ^\u001b[0m\n\u001b[0;31mIndentationError\u001b[0m\u001b[0;31m:\u001b[0m expected an indented block\n"
          ]
        }
      ]
    },
    {
      "cell_type": "code",
      "source": [
        "pocket = ['paper','handphone']"
      ],
      "metadata": {
        "id": "KA5gK_QUuxQ4"
      },
      "execution_count": null,
      "outputs": []
    },
    {
      "cell_type": "code",
      "source": [
        "card = True"
      ],
      "metadata": {
        "id": "a_fV0euKvOwx"
      },
      "execution_count": null,
      "outputs": []
    },
    {
      "cell_type": "code",
      "source": [
        "if 'money'in pocket:\n",
        "  print(\"택시를 타고가라\")\n",
        "else:\n",
        "  if card:\n",
        "    print(\"택시를 타고가라\")\n",
        "  else:\n",
        "    print(\"걸어가라\")"
      ],
      "metadata": {
        "colab": {
          "base_uri": "https://localhost:8080/"
        },
        "id": "IBynTvvhvP6Z",
        "outputId": "d8a2b430-0d23-490b-a558-749ee5df77b0"
      },
      "execution_count": null,
      "outputs": [
        {
          "output_type": "stream",
          "name": "stdout",
          "text": [
            "택시를 타고가라\n"
          ]
        }
      ]
    },
    {
      "cell_type": "code",
      "source": [
        "pocket = ['paper','cellphone']"
      ],
      "metadata": {
        "id": "96dm3aOovdm_"
      },
      "execution_count": null,
      "outputs": []
    },
    {
      "cell_type": "code",
      "source": [
        "card = True"
      ],
      "metadata": {
        "id": "7JWab7elvnlZ"
      },
      "execution_count": null,
      "outputs": []
    },
    {
      "cell_type": "code",
      "source": [
        "if'money'in pocket:\n",
        "  print(\"택시를 타고가라\")\n",
        "elif card:\n",
        "  print(\"택시를 타고가라\")\n",
        "else:\n",
        "  print(\"걸어가라\")"
      ],
      "metadata": {
        "colab": {
          "base_uri": "https://localhost:8080/"
        },
        "id": "0rMX0QJ8vo5Y",
        "outputId": "b204414e-c490-4061-c4b0-96dab114a602"
      },
      "execution_count": null,
      "outputs": [
        {
          "output_type": "stream",
          "name": "stdout",
          "text": [
            "택시를 타고가라\n"
          ]
        }
      ]
    },
    {
      "cell_type": "code",
      "source": [
        "score = 65\n",
        "if score >= 60:\n",
        "  message = \"success\"\n",
        "else:\n",
        "  message = \"failure\""
      ],
      "metadata": {
        "id": "B9QI7vBov2Tb"
      },
      "execution_count": 16,
      "outputs": []
    },
    {
      "cell_type": "code",
      "source": [
        "message = \"success\" if score >= 60 else \"failure\""
      ],
      "metadata": {
        "id": "odZx7-oEwI15"
      },
      "execution_count": 17,
      "outputs": []
    },
    {
      "cell_type": "code",
      "source": [
        "message"
      ],
      "metadata": {
        "id": "CHDscovJ07_p",
        "outputId": "89fe13e8-3413-4758-f171-6ed398675b07",
        "colab": {
          "base_uri": "https://localhost:8080/",
          "height": 35
        }
      },
      "execution_count": 18,
      "outputs": [
        {
          "output_type": "execute_result",
          "data": {
            "text/plain": [
              "'success'"
            ],
            "application/vnd.google.colaboratory.intrinsic+json": {
              "type": "string"
            }
          },
          "metadata": {},
          "execution_count": 18
        }
      ]
    },
    {
      "cell_type": "code",
      "source": [
        ""
      ],
      "metadata": {
        "id": "AT7lCz2i08zp"
      },
      "execution_count": null,
      "outputs": []
    }
  ]
}